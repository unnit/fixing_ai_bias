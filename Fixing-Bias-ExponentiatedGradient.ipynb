{
 "cells": [
  {
   "cell_type": "markdown",
   "id": "7d118a53-b3c6-4699-837a-5dc44a152802",
   "metadata": {},
   "source": [
    "# Fixing Bias on a synthentic dataset"
   ]
  },
  {
   "cell_type": "code",
   "execution_count": 98,
   "id": "fa992519-b03c-4508-ad34-26a5c0c04c33",
   "metadata": {},
   "outputs": [],
   "source": [
    "import numpy as np\n",
    "import pandas as pd\n",
    "import matplotlib.pyplot as plt\n",
    "import seaborn as sns"
   ]
  },
  {
   "cell_type": "markdown",
   "id": "dfd43037-3e1e-42bd-883a-b759d4db3500",
   "metadata": {},
   "source": [
    "#### Create dataset with approved loan favoring male"
   ]
  },
  {
   "cell_type": "code",
   "execution_count": 99,
   "id": "ef08de68-858b-4480-8e39-3493129f4eea",
   "metadata": {},
   "outputs": [],
   "source": [
    "np.random.seed(42)\n",
    "\n",
    "n_samples = 100000\n",
    "gender = np.random.choice([0, 1], size=n_samples, p=[0.5, 0.5])  # Balance gender distribution\n",
    "\n",
    "# Income and credit score distribution\n",
    "income = np.random.normal(50000, 15000, size=n_samples)\n",
    "credit_score = np.random.normal(700, 50, size=n_samples)\n",
    "\n",
    "# Introduce strong bias (60% male approval, 40% female approval)\n",
    "approval = np.zeros(n_samples)\n",
    "approval[gender == 1] = np.random.choice([0, 1], size=(gender == 1).sum(), p=[0.4, 0.6])  # Males: 60% approved\n",
    "approval[gender == 0] = np.random.choice([0, 1], size=(gender == 0).sum(), p=[0.6, 0.4])  # Females: 40% approved\n",
    "\n",
    "# Convert to DataFrame\n",
    "df = pd.DataFrame({\"Gender\": gender, \"Income\": income, \"Credit_Score\": credit_score, \"Loan_Approval\": approval})\n"
   ]
  },
  {
   "cell_type": "code",
   "execution_count": 100,
   "id": "54ff3e9c-baae-4df1-9024-3d1938501b39",
   "metadata": {},
   "outputs": [
    {
     "data": {
      "text/html": [
       "<div>\n",
       "<style scoped>\n",
       "    .dataframe tbody tr th:only-of-type {\n",
       "        vertical-align: middle;\n",
       "    }\n",
       "\n",
       "    .dataframe tbody tr th {\n",
       "        vertical-align: top;\n",
       "    }\n",
       "\n",
       "    .dataframe thead th {\n",
       "        text-align: right;\n",
       "    }\n",
       "</style>\n",
       "<table border=\"1\" class=\"dataframe\">\n",
       "  <thead>\n",
       "    <tr style=\"text-align: right;\">\n",
       "      <th></th>\n",
       "      <th>Gender</th>\n",
       "      <th>Income</th>\n",
       "      <th>Credit_Score</th>\n",
       "      <th>Loan_Approval</th>\n",
       "    </tr>\n",
       "  </thead>\n",
       "  <tbody>\n",
       "    <tr>\n",
       "      <th>0</th>\n",
       "      <td>0</td>\n",
       "      <td>62640.666430</td>\n",
       "      <td>803.595061</td>\n",
       "      <td>0.0</td>\n",
       "    </tr>\n",
       "    <tr>\n",
       "      <th>1</th>\n",
       "      <td>1</td>\n",
       "      <td>87858.305252</td>\n",
       "      <td>653.165689</td>\n",
       "      <td>1.0</td>\n",
       "    </tr>\n",
       "    <tr>\n",
       "      <th>2</th>\n",
       "      <td>1</td>\n",
       "      <td>48498.027585</td>\n",
       "      <td>682.920921</td>\n",
       "      <td>1.0</td>\n",
       "    </tr>\n",
       "    <tr>\n",
       "      <th>3</th>\n",
       "      <td>1</td>\n",
       "      <td>17035.934088</td>\n",
       "      <td>680.898634</td>\n",
       "      <td>1.0</td>\n",
       "    </tr>\n",
       "    <tr>\n",
       "      <th>4</th>\n",
       "      <td>0</td>\n",
       "      <td>71380.210353</td>\n",
       "      <td>712.280929</td>\n",
       "      <td>1.0</td>\n",
       "    </tr>\n",
       "  </tbody>\n",
       "</table>\n",
       "</div>"
      ],
      "text/plain": [
       "   Gender        Income  Credit_Score  Loan_Approval\n",
       "0       0  62640.666430    803.595061            0.0\n",
       "1       1  87858.305252    653.165689            1.0\n",
       "2       1  48498.027585    682.920921            1.0\n",
       "3       1  17035.934088    680.898634            1.0\n",
       "4       0  71380.210353    712.280929            1.0"
      ]
     },
     "execution_count": 100,
     "metadata": {},
     "output_type": "execute_result"
    }
   ],
   "source": [
    "df.head()"
   ]
  },
  {
   "cell_type": "code",
   "execution_count": 101,
   "id": "d542a8cb-7296-4749-860b-c94d52ac5d49",
   "metadata": {},
   "outputs": [
    {
     "data": {
      "text/plain": [
       "Gender\n",
       "1    50066\n",
       "0    49934\n",
       "Name: count, dtype: int64"
      ]
     },
     "execution_count": 101,
     "metadata": {},
     "output_type": "execute_result"
    }
   ],
   "source": [
    "df['Gender'].value_counts()"
   ]
  },
  {
   "cell_type": "code",
   "execution_count": 102,
   "id": "a11bd6df-e98b-43b0-9506-04c3535d36b3",
   "metadata": {},
   "outputs": [
    {
     "data": {
      "text/plain": [
       "Loan_Approval\n",
       "0.0    50090\n",
       "1.0    49910\n",
       "Name: count, dtype: int64"
      ]
     },
     "execution_count": 102,
     "metadata": {},
     "output_type": "execute_result"
    }
   ],
   "source": [
    "df['Loan_Approval'].value_counts()"
   ]
  },
  {
   "cell_type": "markdown",
   "id": "b5cb85a4-13c1-4bdf-b680-ea48a2307069",
   "metadata": {},
   "source": [
    "#### Visualize distributions"
   ]
  },
  {
   "cell_type": "code",
   "execution_count": 103,
   "id": "649108ec-fb3a-4685-9412-761d566c8c00",
   "metadata": {},
   "outputs": [
    {
     "data": {
      "image/png": "[encoded data removed]",
      "text/plain": [
       "<Figure size 1000x500 with 1 Axes>"
      ]
     },
     "metadata": {},
     "output_type": "display_data"
    }
   ],
   "source": [
    "plt.figure(figsize=(10, 5))\n",
    "sns.countplot(data=df, x='Gender', hue='Loan_Approval')\n",
    "plt.title('Approved by Gender')\n",
    "plt.show()"
   ]
  },
  {
   "cell_type": "code",
   "execution_count": 104,
   "id": "8535b6d2-a63c-4d6a-b73c-44ce36c7905a",
   "metadata": {},
   "outputs": [],
   "source": [
    "from sklearn.ensemble import RandomForestClassifier\n",
    "from sklearn.model_selection import train_test_split\n",
    "from sklearn.preprocessing import StandardScaler\n",
    "from sklearn.linear_model import LogisticRegression\n",
    "from sklearn.metrics import classification_report, accuracy_score\n",
    "from fairlearn.reductions import ExponentiatedGradient, DemographicParity\n",
    "from fairlearn.metrics import demographic_parity_difference"
   ]
  },
  {
   "cell_type": "markdown",
   "id": "47824a2f-c71d-466e-96a4-9f7ca9e33678",
   "metadata": {},
   "source": [
    "#### Train a Biased Model"
   ]
  },
  {
   "cell_type": "code",
   "execution_count": 105,
   "id": "aee7c3de-69eb-4e08-ae75-9fa2bbaaf0bb",
   "metadata": {},
   "outputs": [],
   "source": [
    "X = df[[\"Gender\", \"Income\", \"Credit_Score\"]]\n",
    "y = df[\"Loan_Approval\"]\n",
    "\n",
    "# Split into train and test sets\n",
    "X_train, X_test, y_train, y_test = train_test_split(X, y, test_size=0.3, random_state=42, stratify=y)\n",
    "\n",
    "# Train a biased Random Forest model\n",
    "biased_model = RandomForestClassifier(n_estimators=50, random_state=42)\n",
    "biased_model.fit(X_train, y_train)\n",
    "\n",
    "# Predictions\n",
    "y_pred_biased = biased_model.predict(X_test)"
   ]
  },
  {
   "cell_type": "markdown",
   "id": "78c4abaa-f56b-48b2-aa15-73f791fdae30",
   "metadata": {},
   "source": [
    "#### Evaluate bias before mitigation"
   ]
  },
  {
   "cell_type": "code",
   "execution_count": 106,
   "id": "e460f847-ec9a-4b84-b3af-4264034832d8",
   "metadata": {},
   "outputs": [
    {
     "name": "stdout",
     "output_type": "stream",
     "text": [
      "Before Bias Mitigation:\n",
      "Male Approval Rate: 0.67\n",
      "Female Approval Rate: 0.30\n",
      "Disparate Impact Ratio (Female/Male): 0.44\n",
      "Demographic Parity Difference: 0.38\n",
      "\n",
      "------------------------------------------------------------------------------\n",
      "Biased Model Performance:\n",
      "0.5362333333333333\n",
      "              precision    recall  f1-score   support\n",
      "\n",
      "         0.0       0.54      0.55      0.54     15027\n",
      "         1.0       0.54      0.52      0.53     14973\n",
      "\n",
      "    accuracy                           0.54     30000\n",
      "   macro avg       0.54      0.54      0.54     30000\n",
      "weighted avg       0.54      0.54      0.54     30000\n",
      "\n"
     ]
    }
   ],
   "source": [
    "male_approval_rate = np.mean(y_pred_biased[X_test[\"Gender\"] == 1])\n",
    "female_approval_rate = np.mean(y_pred_biased[X_test[\"Gender\"] == 0])\n",
    "disparate_impact = female_approval_rate / male_approval_rate\n",
    "dpd_before = demographic_parity_difference(y_test, y_pred_biased, sensitive_features=X_test[\"Gender\"])\n",
    "\n",
    "print(\"Before Bias Mitigation:\")\n",
    "print(f\"Male Approval Rate: {male_approval_rate:.2f}\")\n",
    "print(f\"Female Approval Rate: {female_approval_rate:.2f}\")\n",
    "print(f\"Disparate Impact Ratio (Female/Male): {disparate_impact:.2f}\")\n",
    "print(f\"Demographic Parity Difference: {dpd_before:.2f}\\n\")\n",
    "\n",
    "print('------------------------------------------------------------------------------')\n",
    "print(\"Biased Model Performance:\")\n",
    "print(accuracy_score(y_test, y_pred_biased))\n",
    "print(classification_report(y_test, y_pred_biased))"
   ]
  },
  {
   "cell_type": "markdown",
   "id": "cdc26ea6-3498-4211-af33-896e1ee136b3",
   "metadata": {},
   "source": [
    "**Approval Rates**\n",
    "- Male Approval Rate: 0.67 → 67% of males were approved.\n",
    "- Female Approval Rate: 0.30 → Only 30% of females were approved.\n",
    "\n",
    "There is a significant gap in approval rates between males and females.\n",
    "Males are more than twice as likely to be approved compared to females.\n",
    "\n",
    "**Disparate Impact Ratio (DIR)**\n",
    "- DIR = 0.44 is quite low, meaning females are significantly disadvantaged.\n",
    "- This suggests a strong gender bias in the model’s predictions before bias mitigation.\n",
    "\n",
    "**Demographic Parity Difference (Statistical Parity Difference - SPD)**\n",
    "- SPD = -0.38 confirms that females are getting significantly fewer approvals.\n",
    "- This suggests that the model is favoring males over females before bias mitigation."
   ]
  },
  {
   "cell_type": "markdown",
   "id": "e82682ce-e050-4603-ab0c-678c37810a30",
   "metadata": {},
   "source": [
    "## Apply Bias Mitigation"
   ]
  },
  {
   "cell_type": "code",
   "execution_count": 107,
   "id": "fe519d68-1545-4d7a-aba1-671a92f5109c",
   "metadata": {},
   "outputs": [],
   "source": [
    "# Remove 'Gender' from training data for the fair model\n",
    "X_train_fair = X_train[[\"Income\", \"Credit_Score\"]]\n",
    "X_test_fair = X_test[[\"Income\", \"Credit_Score\"]]\n",
    "\n",
    "# Scale again\n",
    "scaler = StandardScaler()\n",
    "X_train_fair_scaled = scaler.fit_transform(X_train_fair)\n",
    "X_test_fair_scaled = scaler.transform(X_test_fair)\n",
    "\n",
    "from fairlearn.reductions import EqualizedOdds\n",
    "# Use Logistic Regression for bias mitigation\n",
    "mitigator = ExponentiatedGradient(\n",
    "    estimator=LogisticRegression(max_iter=1000, random_state=42),\n",
    "    #constraints=DemographicParity()\n",
    "    constraints=EqualizedOdds(),\n",
    "    eps=0.05\n",
    ")\n",
    "mitigator.fit(X_train_fair_scaled, y_train, sensitive_features=X_train[\"Gender\"])\n",
    "y_pred_fair = mitigator.predict(X_test_fair_scaled)"
   ]
  },
  {
   "cell_type": "markdown",
   "id": "fa058890-7f8c-4ac5-9a52-85bbdcbfba4f",
   "metadata": {},
   "source": [
    "#### Evaluate bias after mitigation"
   ]
  },
  {
   "cell_type": "code",
   "execution_count": 108,
   "id": "13ba9e97-e437-4355-abd1-18b43b575c22",
   "metadata": {},
   "outputs": [
    {
     "name": "stdout",
     "output_type": "stream",
     "text": [
      "\n",
      "After Bias Mitigation:\n",
      "Male Approval Rate: 0.40\n",
      "Female Approval Rate: 0.41\n",
      "Disparate Impact Ratio (Female/Male): 1.02\n",
      "Demographic Parity Difference: 0.01\n",
      "\n",
      "------------------------------------------------------------------------------\n",
      "Fair Model Performance:\n",
      "0.4997\n",
      "              precision    recall  f1-score   support\n",
      "\n",
      "         0.0       0.50      0.60      0.55     15027\n",
      "         1.0       0.50      0.40      0.44     14973\n",
      "\n",
      "    accuracy                           0.50     30000\n",
      "   macro avg       0.50      0.50      0.49     30000\n",
      "weighted avg       0.50      0.50      0.49     30000\n",
      "\n"
     ]
    }
   ],
   "source": [
    "male_approval_rate_fair = np.mean(y_pred_fair[X_test[\"Gender\"] == 1])\n",
    "female_approval_rate_fair = np.mean(y_pred_fair[X_test[\"Gender\"] == 0])\n",
    "disparate_impact_fair = female_approval_rate_fair / male_approval_rate_fair\n",
    "dpd_after = demographic_parity_difference(y_test, y_pred_fair, sensitive_features=X_test[\"Gender\"])\n",
    "\n",
    "print(\"\\nAfter Bias Mitigation:\")\n",
    "print(f\"Male Approval Rate: {male_approval_rate_fair:.2f}\")\n",
    "print(f\"Female Approval Rate: {female_approval_rate_fair:.2f}\")\n",
    "print(f\"Disparate Impact Ratio (Female/Male): {disparate_impact_fair:.2f}\")\n",
    "print(f\"Demographic Parity Difference: {dpd_after:.2f}\\n\")\n",
    "\n",
    "print('------------------------------------------------------------------------------')\n",
    "print(\"Fair Model Performance:\")\n",
    "print(accuracy_score(y_test, y_pred_fair))\n",
    "print(classification_report(y_test, y_pred_fair))"
   ]
  },
  {
   "cell_type": "markdown",
   "id": "cd52c6ae-3f89-40fe-bd6d-4caa639ed3f9",
   "metadata": {},
   "source": [
    "## Post-bias mitigation results show a significant improvement in fairness after applying Exponentiated Gradient (EG) with Equalized Odds constraints.\n",
    "\n",
    "**Approval Rates:**\n",
    "- Male Approval Rate: 0.40 → 40% of males were approved.\n",
    "- Female Approval Rate: 0.41 → 41% of females were approved.\n",
    "- Approval rates are now very close for both males and females, with females slightly outperforming males.\n",
    "- This suggests that the model is now more equitable in granting approvals, minimizing the previous gender disparity.\n",
    "\n",
    "**Disparate Impact Ratio (DIR):**\n",
    "- DIR = 1.02 indicates that both genders are treated almost equally, with a slight favor toward females.\n",
    "- The model now achieves a balanced outcome for both genders, a significant improvement over the pre-mitigation DIR (0.44).\n",
    "\n",
    "**Demographic Parity Difference (SPD):**\n",
    "- SPD = 0.01 indicates that the model is now almost perfectly balanced in terms of gender fairness, with a very small difference between approval rates for males and females.\n",
    "- This is a drastic improvement from the previous SPD (-0.38), where females were significantly disadvantaged.\n",
    "\n",
    "**The Exponentiated Gradient (EG) method with Equalized Odds constraints has successfully reduced the gender bias by ensuring that the model gives nearly identical treatment to both males and females. The model has become more equitable, with only a slight difference in outcomes for both genders.**"
   ]
  },
  {
   "cell_type": "code",
   "execution_count": null,
   "id": "4018e2b7-ef89-459c-8929-42f7d7f09eaf",
   "metadata": {},
   "outputs": [],
   "source": []
  }
 ],
 "metadata": {
  "kernelspec": {
   "display_name": "Python 3.11 (my_env)",
   "language": "python",
   "name": "my_env"
  },
  "language_info": {
   "codemirror_mode": {
    "name": "ipython",
    "version": 3
   },
   "file_extension": ".py",
   "mimetype": "text/x-python",
   "name": "python",
   "nbconvert_exporter": "python",
   "pygments_lexer": "ipython3",
   "version": "3.11.11"
  }
 },
 "nbformat": 4,
 "nbformat_minor": 5
}
